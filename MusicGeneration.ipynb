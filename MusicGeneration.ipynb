{
 "cells": [
  {
   "cell_type": "code",
   "execution_count": null,
   "id": "f5712200",
   "metadata": {},
   "outputs": [],
   "source": [
    "#MUSIC GENERATION USING LSTM MODEL"
   ]
  },
  {
   "cell_type": "code",
   "execution_count": 37,
   "id": "474345e1",
   "metadata": {},
   "outputs": [],
   "source": [
    "#Importing Libraries\n",
    "import tensorflow \n",
    "import numpy as np \n",
    "import pandas as pd \n",
    "from collections import Counter\n",
    "import random\n",
    "import IPython\n",
    "from IPython.display import Image, Audio\n",
    "import music21\n",
    "from music21 import *\n",
    "import matplotlib.pyplot as plt \n",
    "from sklearn.model_selection import train_test_split\n",
    "from tensorflow.keras.models import Sequential\n",
    "from tensorflow.keras.layers import LSTM, Dense, Dropout\n",
    "import tensorflow.keras.backend as K\n",
    "from tensorflow.keras.optimizers import Adamax\n",
    "import seaborn as sns\n",
    "import matplotlib.pyplot as plt\n",
    "import matplotlib.patches as mpatches\n",
    "%matplotlib inline\n",
    "import sys\n",
    "import warnings\n",
    "warnings.filterwarnings(\"ignore\")\n",
    "warnings.simplefilter(\"ignore\")\n",
    "np.random.seed(42)"
   ]
  },
  {
   "cell_type": "code",
   "execution_count": 142,
   "id": "15def987",
   "metadata": {
    "scrolled": true
   },
   "outputs": [],
   "source": [
    "#Load the Dataset\n",
    "df = pd.read_csv(\"emotion-dataset.csv\")"
   ]
  },
  {
   "cell_type": "code",
   "execution_count": 143,
   "id": "7af7478c",
   "metadata": {},
   "outputs": [
    {
     "data": {
      "text/html": [
       "<div>\n",
       "<style scoped>\n",
       "    .dataframe tbody tr th:only-of-type {\n",
       "        vertical-align: middle;\n",
       "    }\n",
       "\n",
       "    .dataframe tbody tr th {\n",
       "        vertical-align: top;\n",
       "    }\n",
       "\n",
       "    .dataframe thead th {\n",
       "        text-align: right;\n",
       "    }\n",
       "</style>\n",
       "<table border=\"1\" class=\"dataframe\">\n",
       "  <thead>\n",
       "    <tr style=\"text-align: right;\">\n",
       "      <th></th>\n",
       "      <th>Emotion</th>\n",
       "      <th>Text</th>\n",
       "    </tr>\n",
       "  </thead>\n",
       "  <tbody>\n",
       "    <tr>\n",
       "      <th>0</th>\n",
       "      <td>neutral</td>\n",
       "      <td>Why ?</td>\n",
       "    </tr>\n",
       "    <tr>\n",
       "      <th>1</th>\n",
       "      <td>joy</td>\n",
       "      <td>Sage Act upgrade on my to do list for tommorow.</td>\n",
       "    </tr>\n",
       "    <tr>\n",
       "      <th>2</th>\n",
       "      <td>sadness</td>\n",
       "      <td>ON THE WAY TO MY HOMEGIRL BABY FUNERAL!!! MAN ...</td>\n",
       "    </tr>\n",
       "    <tr>\n",
       "      <th>3</th>\n",
       "      <td>joy</td>\n",
       "      <td>Such an eye ! The true hazel eye-and so brill...</td>\n",
       "    </tr>\n",
       "    <tr>\n",
       "      <th>4</th>\n",
       "      <td>joy</td>\n",
       "      <td>@Iluvmiasantos ugh babe.. hugggzzz for u .!  b...</td>\n",
       "    </tr>\n",
       "  </tbody>\n",
       "</table>\n",
       "</div>"
      ],
      "text/plain": [
       "   Emotion                                               Text\n",
       "0  neutral                                             Why ? \n",
       "1      joy    Sage Act upgrade on my to do list for tommorow.\n",
       "2  sadness  ON THE WAY TO MY HOMEGIRL BABY FUNERAL!!! MAN ...\n",
       "3      joy   Such an eye ! The true hazel eye-and so brill...\n",
       "4      joy  @Iluvmiasantos ugh babe.. hugggzzz for u .!  b..."
      ]
     },
     "execution_count": 143,
     "metadata": {},
     "output_type": "execute_result"
    }
   ],
   "source": [
    "#Structure of Database\n",
    "df.head()"
   ]
  },
  {
   "cell_type": "code",
   "execution_count": 144,
   "id": "204b6b19",
   "metadata": {},
   "outputs": [
    {
     "data": {
      "text/plain": [
       "joy         11045\n",
       "sadness      6722\n",
       "fear         5410\n",
       "anger        4297\n",
       "surprise     4062\n",
       "neutral      2254\n",
       "disgust       856\n",
       "shame         146\n",
       "Name: Emotion, dtype: int64"
      ]
     },
     "execution_count": 144,
     "metadata": {},
     "output_type": "execute_result"
    }
   ],
   "source": [
    "df['Emotion'].value_counts()"
   ]
  },
  {
   "cell_type": "code",
   "execution_count": 145,
   "id": "36407eb0",
   "metadata": {},
   "outputs": [
    {
     "name": "stdout",
     "output_type": "stream",
     "text": [
      "Collecting neattext\n",
      "  Downloading neattext-0.1.3-py3-none-any.whl (114 kB)\n",
      "\u001b[2K     \u001b[90m━━━━━━━━━━━━━━━━━━━━━━━━━━━━━━━━━━━━━━━\u001b[0m \u001b[32m114.7/114.7 kB\u001b[0m \u001b[31m3.4 MB/s\u001b[0m eta \u001b[36m0:00:00\u001b[0m\n",
      "\u001b[?25hInstalling collected packages: neattext\n",
      "Successfully installed neattext-0.1.3\n"
     ]
    }
   ],
   "source": [
    "!pip install neattext"
   ]
  },
  {
   "cell_type": "code",
   "execution_count": 146,
   "id": "72e65cc7",
   "metadata": {},
   "outputs": [],
   "source": []
  },
  {
   "cell_type": "code",
   "execution_count": 147,
   "id": "27d9dfe0",
   "metadata": {},
   "outputs": [
    {
     "data": {
      "text/plain": [
       "['BTC_ADDRESS_REGEX',\n",
       " 'CURRENCY_REGEX',\n",
       " 'CURRENCY_SYMB_REGEX',\n",
       " 'Counter',\n",
       " 'DATE_REGEX',\n",
       " 'EMAIL_REGEX',\n",
       " 'EMOJI_REGEX',\n",
       " 'HASTAG_REGEX',\n",
       " 'MASTERCard_REGEX',\n",
       " 'MD5_SHA_REGEX',\n",
       " 'MOST_COMMON_PUNCT_REGEX',\n",
       " 'NUMBERS_REGEX',\n",
       " 'PHONE_REGEX',\n",
       " 'PoBOX_REGEX',\n",
       " 'SPECIAL_CHARACTERS_REGEX',\n",
       " 'STOPWORDS',\n",
       " 'STOPWORDS_de',\n",
       " 'STOPWORDS_en',\n",
       " 'STOPWORDS_es',\n",
       " 'STOPWORDS_fr',\n",
       " 'STOPWORDS_ru',\n",
       " 'STOPWORDS_yo',\n",
       " 'STREET_ADDRESS_REGEX',\n",
       " 'TextFrame',\n",
       " 'URL_PATTERN',\n",
       " 'USER_HANDLES_REGEX',\n",
       " 'VISACard_REGEX',\n",
       " '__builtins__',\n",
       " '__cached__',\n",
       " '__doc__',\n",
       " '__file__',\n",
       " '__generate_text',\n",
       " '__loader__',\n",
       " '__name__',\n",
       " '__numbers_dict',\n",
       " '__package__',\n",
       " '__spec__',\n",
       " '_lex_richness_herdan',\n",
       " '_lex_richness_maas_ttr',\n",
       " 'clean_text',\n",
       " 'defaultdict',\n",
       " 'digit2words',\n",
       " 'extract_btc_address',\n",
       " 'extract_currencies',\n",
       " 'extract_currency_symbols',\n",
       " 'extract_dates',\n",
       " 'extract_emails',\n",
       " 'extract_emojis',\n",
       " 'extract_hashtags',\n",
       " 'extract_html_tags',\n",
       " 'extract_mastercard_addr',\n",
       " 'extract_md5sha',\n",
       " 'extract_numbers',\n",
       " 'extract_pattern',\n",
       " 'extract_phone_numbers',\n",
       " 'extract_postoffice_box',\n",
       " 'extract_shortwords',\n",
       " 'extract_special_characters',\n",
       " 'extract_stopwords',\n",
       " 'extract_street_address',\n",
       " 'extract_terms_in_bracket',\n",
       " 'extract_urls',\n",
       " 'extract_userhandles',\n",
       " 'extract_visacard_addr',\n",
       " 'fix_contractions',\n",
       " 'generate_sentence',\n",
       " 'hamming_distance',\n",
       " 'inverse_df',\n",
       " 'lexical_richness',\n",
       " 'markov_chain',\n",
       " 'math',\n",
       " 'nlargest',\n",
       " 'normalize',\n",
       " 'num2words',\n",
       " 'random',\n",
       " 're',\n",
       " 'read_txt',\n",
       " 'remove_accents',\n",
       " 'remove_bad_quotes',\n",
       " 'remove_btc_address',\n",
       " 'remove_currencies',\n",
       " 'remove_currency_symbols',\n",
       " 'remove_custom_pattern',\n",
       " 'remove_custom_words',\n",
       " 'remove_dates',\n",
       " 'remove_emails',\n",
       " 'remove_emojis',\n",
       " 'remove_hashtags',\n",
       " 'remove_html_tags',\n",
       " 'remove_mastercard_addr',\n",
       " 'remove_md5sha',\n",
       " 'remove_multiple_spaces',\n",
       " 'remove_non_ascii',\n",
       " 'remove_numbers',\n",
       " 'remove_phone_numbers',\n",
       " 'remove_postoffice_box',\n",
       " 'remove_puncts',\n",
       " 'remove_punctuations',\n",
       " 'remove_shortwords',\n",
       " 'remove_special_characters',\n",
       " 'remove_stopwords',\n",
       " 'remove_street_address',\n",
       " 'remove_terms_in_bracket',\n",
       " 'remove_urls',\n",
       " 'remove_userhandles',\n",
       " 'remove_visacard_addr',\n",
       " 'replace_bad_quotes',\n",
       " 'replace_currencies',\n",
       " 'replace_currency_symbols',\n",
       " 'replace_dates',\n",
       " 'replace_emails',\n",
       " 'replace_emojis',\n",
       " 'replace_numbers',\n",
       " 'replace_phone_numbers',\n",
       " 'replace_special_characters',\n",
       " 'replace_term',\n",
       " 'replace_urls',\n",
       " 'string',\n",
       " 'term_freq',\n",
       " 'to_txt',\n",
       " 'unicodedata',\n",
       " 'word_freq',\n",
       " 'word_length_freq']"
      ]
     },
     "execution_count": 147,
     "metadata": {},
     "output_type": "execute_result"
    }
   ],
   "source": [
    "import neattext.functions as nfx\n",
    "#Listing Methods and attributes if neattext\n",
    "dir(nfx)"
   ]
  },
  {
   "cell_type": "code",
   "execution_count": 148,
   "id": "5d226d76",
   "metadata": {},
   "outputs": [],
   "source": [
    "#Removing user handles\n",
    "df['Clean_Text'] = df['Text'].apply(nfx.remove_userhandles)"
   ]
  },
  {
   "cell_type": "code",
   "execution_count": 149,
   "id": "76ed1d05",
   "metadata": {},
   "outputs": [],
   "source": [
    "#Remove stopwords\n",
    "df['Clean_Text'] = df['Clean_Text'].apply(nfx.remove_stopwords)"
   ]
  },
  {
   "cell_type": "code",
   "execution_count": 150,
   "id": "34506fd8",
   "metadata": {},
   "outputs": [
    {
     "data": {
      "text/html": [
       "<div>\n",
       "<style scoped>\n",
       "    .dataframe tbody tr th:only-of-type {\n",
       "        vertical-align: middle;\n",
       "    }\n",
       "\n",
       "    .dataframe tbody tr th {\n",
       "        vertical-align: top;\n",
       "    }\n",
       "\n",
       "    .dataframe thead th {\n",
       "        text-align: right;\n",
       "    }\n",
       "</style>\n",
       "<table border=\"1\" class=\"dataframe\">\n",
       "  <thead>\n",
       "    <tr style=\"text-align: right;\">\n",
       "      <th></th>\n",
       "      <th>Emotion</th>\n",
       "      <th>Text</th>\n",
       "      <th>Clean_Text</th>\n",
       "    </tr>\n",
       "  </thead>\n",
       "  <tbody>\n",
       "    <tr>\n",
       "      <th>0</th>\n",
       "      <td>neutral</td>\n",
       "      <td>Why ?</td>\n",
       "      <td>?</td>\n",
       "    </tr>\n",
       "    <tr>\n",
       "      <th>1</th>\n",
       "      <td>joy</td>\n",
       "      <td>Sage Act upgrade on my to do list for tommorow.</td>\n",
       "      <td>Sage Act upgrade list tommorow.</td>\n",
       "    </tr>\n",
       "    <tr>\n",
       "      <th>2</th>\n",
       "      <td>sadness</td>\n",
       "      <td>ON THE WAY TO MY HOMEGIRL BABY FUNERAL!!! MAN ...</td>\n",
       "      <td>WAY HOMEGIRL BABY FUNERAL!!! MAN HATE FUNERALS...</td>\n",
       "    </tr>\n",
       "    <tr>\n",
       "      <th>3</th>\n",
       "      <td>joy</td>\n",
       "      <td>Such an eye ! The true hazel eye-and so brill...</td>\n",
       "      <td>eye ! true hazel eye-and brilliant ! Regular f...</td>\n",
       "    </tr>\n",
       "    <tr>\n",
       "      <th>4</th>\n",
       "      <td>joy</td>\n",
       "      <td>@Iluvmiasantos ugh babe.. hugggzzz for u .!  b...</td>\n",
       "      <td>ugh babe.. hugggzzz u .! babe naamazed nga ako...</td>\n",
       "    </tr>\n",
       "    <tr>\n",
       "      <th>...</th>\n",
       "      <td>...</td>\n",
       "      <td>...</td>\n",
       "      <td>...</td>\n",
       "    </tr>\n",
       "    <tr>\n",
       "      <th>34787</th>\n",
       "      <td>surprise</td>\n",
       "      <td>@MichelGW have you gift! Hope you like it! It'...</td>\n",
       "      <td>gift! Hope like it! hand wear ! It'll warm! Lol</td>\n",
       "    </tr>\n",
       "    <tr>\n",
       "      <th>34788</th>\n",
       "      <td>joy</td>\n",
       "      <td>The world didnt give it to me..so the world MO...</td>\n",
       "      <td>world didnt me..so world DEFINITELY cnt away!!!</td>\n",
       "    </tr>\n",
       "    <tr>\n",
       "      <th>34789</th>\n",
       "      <td>anger</td>\n",
       "      <td>A man robbed me today .</td>\n",
       "      <td>man robbed today .</td>\n",
       "    </tr>\n",
       "    <tr>\n",
       "      <th>34790</th>\n",
       "      <td>fear</td>\n",
       "      <td>Youu call it JEALOUSY, I call it of #Losing YO...</td>\n",
       "      <td>Youu JEALOUSY, #Losing YOU...</td>\n",
       "    </tr>\n",
       "    <tr>\n",
       "      <th>34791</th>\n",
       "      <td>sadness</td>\n",
       "      <td>I think about you baby, and I dream about you ...</td>\n",
       "      <td>think baby, dream time</td>\n",
       "    </tr>\n",
       "  </tbody>\n",
       "</table>\n",
       "<p>34792 rows × 3 columns</p>\n",
       "</div>"
      ],
      "text/plain": [
       "        Emotion                                               Text  \\\n",
       "0       neutral                                             Why ?    \n",
       "1           joy    Sage Act upgrade on my to do list for tommorow.   \n",
       "2       sadness  ON THE WAY TO MY HOMEGIRL BABY FUNERAL!!! MAN ...   \n",
       "3           joy   Such an eye ! The true hazel eye-and so brill...   \n",
       "4           joy  @Iluvmiasantos ugh babe.. hugggzzz for u .!  b...   \n",
       "...         ...                                                ...   \n",
       "34787  surprise  @MichelGW have you gift! Hope you like it! It'...   \n",
       "34788       joy  The world didnt give it to me..so the world MO...   \n",
       "34789     anger                           A man robbed me today .    \n",
       "34790      fear  Youu call it JEALOUSY, I call it of #Losing YO...   \n",
       "34791   sadness  I think about you baby, and I dream about you ...   \n",
       "\n",
       "                                              Clean_Text  \n",
       "0                                                      ?  \n",
       "1                        Sage Act upgrade list tommorow.  \n",
       "2      WAY HOMEGIRL BABY FUNERAL!!! MAN HATE FUNERALS...  \n",
       "3      eye ! true hazel eye-and brilliant ! Regular f...  \n",
       "4      ugh babe.. hugggzzz u .! babe naamazed nga ako...  \n",
       "...                                                  ...  \n",
       "34787    gift! Hope like it! hand wear ! It'll warm! Lol  \n",
       "34788    world didnt me..so world DEFINITELY cnt away!!!  \n",
       "34789                                 man robbed today .  \n",
       "34790                      Youu JEALOUSY, #Losing YOU...  \n",
       "34791                             think baby, dream time  \n",
       "\n",
       "[34792 rows x 3 columns]"
      ]
     },
     "execution_count": 150,
     "metadata": {},
     "output_type": "execute_result"
    }
   ],
   "source": [
    "df"
   ]
  },
  {
   "cell_type": "code",
   "execution_count": 151,
   "id": "d62fe681",
   "metadata": {},
   "outputs": [
    {
     "data": {
      "text/html": [
       "<style>#sk-container-id-1 {color: black;background-color: white;}#sk-container-id-1 pre{padding: 0;}#sk-container-id-1 div.sk-toggleable {background-color: white;}#sk-container-id-1 label.sk-toggleable__label {cursor: pointer;display: block;width: 100%;margin-bottom: 0;padding: 0.3em;box-sizing: border-box;text-align: center;}#sk-container-id-1 label.sk-toggleable__label-arrow:before {content: \"▸\";float: left;margin-right: 0.25em;color: #696969;}#sk-container-id-1 label.sk-toggleable__label-arrow:hover:before {color: black;}#sk-container-id-1 div.sk-estimator:hover label.sk-toggleable__label-arrow:before {color: black;}#sk-container-id-1 div.sk-toggleable__content {max-height: 0;max-width: 0;overflow: hidden;text-align: left;background-color: #f0f8ff;}#sk-container-id-1 div.sk-toggleable__content pre {margin: 0.2em;color: black;border-radius: 0.25em;background-color: #f0f8ff;}#sk-container-id-1 input.sk-toggleable__control:checked~div.sk-toggleable__content {max-height: 200px;max-width: 100%;overflow: auto;}#sk-container-id-1 input.sk-toggleable__control:checked~label.sk-toggleable__label-arrow:before {content: \"▾\";}#sk-container-id-1 div.sk-estimator input.sk-toggleable__control:checked~label.sk-toggleable__label {background-color: #d4ebff;}#sk-container-id-1 div.sk-label input.sk-toggleable__control:checked~label.sk-toggleable__label {background-color: #d4ebff;}#sk-container-id-1 input.sk-hidden--visually {border: 0;clip: rect(1px 1px 1px 1px);clip: rect(1px, 1px, 1px, 1px);height: 1px;margin: -1px;overflow: hidden;padding: 0;position: absolute;width: 1px;}#sk-container-id-1 div.sk-estimator {font-family: monospace;background-color: #f0f8ff;border: 1px dotted black;border-radius: 0.25em;box-sizing: border-box;margin-bottom: 0.5em;}#sk-container-id-1 div.sk-estimator:hover {background-color: #d4ebff;}#sk-container-id-1 div.sk-parallel-item::after {content: \"\";width: 100%;border-bottom: 1px solid gray;flex-grow: 1;}#sk-container-id-1 div.sk-label:hover label.sk-toggleable__label {background-color: #d4ebff;}#sk-container-id-1 div.sk-serial::before {content: \"\";position: absolute;border-left: 1px solid gray;box-sizing: border-box;top: 0;bottom: 0;left: 50%;z-index: 0;}#sk-container-id-1 div.sk-serial {display: flex;flex-direction: column;align-items: center;background-color: white;padding-right: 0.2em;padding-left: 0.2em;position: relative;}#sk-container-id-1 div.sk-item {position: relative;z-index: 1;}#sk-container-id-1 div.sk-parallel {display: flex;align-items: stretch;justify-content: center;background-color: white;position: relative;}#sk-container-id-1 div.sk-item::before, #sk-container-id-1 div.sk-parallel-item::before {content: \"\";position: absolute;border-left: 1px solid gray;box-sizing: border-box;top: 0;bottom: 0;left: 50%;z-index: -1;}#sk-container-id-1 div.sk-parallel-item {display: flex;flex-direction: column;z-index: 1;position: relative;background-color: white;}#sk-container-id-1 div.sk-parallel-item:first-child::after {align-self: flex-end;width: 50%;}#sk-container-id-1 div.sk-parallel-item:last-child::after {align-self: flex-start;width: 50%;}#sk-container-id-1 div.sk-parallel-item:only-child::after {width: 0;}#sk-container-id-1 div.sk-dashed-wrapped {border: 1px dashed gray;margin: 0 0.4em 0.5em 0.4em;box-sizing: border-box;padding-bottom: 0.4em;background-color: white;}#sk-container-id-1 div.sk-label label {font-family: monospace;font-weight: bold;display: inline-block;line-height: 1.2em;}#sk-container-id-1 div.sk-label-container {text-align: center;}#sk-container-id-1 div.sk-container {/* jupyter's `normalize.less` sets `[hidden] { display: none; }` but bootstrap.min.css set `[hidden] { display: none !important; }` so we also need the `!important` here to be able to override the default hidden behavior on the sphinx rendered scikit-learn.org. See: https://github.com/scikit-learn/scikit-learn/issues/21755 */display: inline-block !important;position: relative;}#sk-container-id-1 div.sk-text-repr-fallback {display: none;}</style><div id=\"sk-container-id-1\" class=\"sk-top-container\"><div class=\"sk-text-repr-fallback\"><pre>Pipeline(steps=[(&#x27;cv&#x27;, CountVectorizer()), (&#x27;lr&#x27;, LogisticRegression())])</pre><b>In a Jupyter environment, please rerun this cell to show the HTML representation or trust the notebook. <br />On GitHub, the HTML representation is unable to render, please try loading this page with nbviewer.org.</b></div><div class=\"sk-container\" hidden><div class=\"sk-item sk-dashed-wrapped\"><div class=\"sk-label-container\"><div class=\"sk-label sk-toggleable\"><input class=\"sk-toggleable__control sk-hidden--visually\" id=\"sk-estimator-id-1\" type=\"checkbox\" ><label for=\"sk-estimator-id-1\" class=\"sk-toggleable__label sk-toggleable__label-arrow\">Pipeline</label><div class=\"sk-toggleable__content\"><pre>Pipeline(steps=[(&#x27;cv&#x27;, CountVectorizer()), (&#x27;lr&#x27;, LogisticRegression())])</pre></div></div></div><div class=\"sk-serial\"><div class=\"sk-item\"><div class=\"sk-estimator sk-toggleable\"><input class=\"sk-toggleable__control sk-hidden--visually\" id=\"sk-estimator-id-2\" type=\"checkbox\" ><label for=\"sk-estimator-id-2\" class=\"sk-toggleable__label sk-toggleable__label-arrow\">CountVectorizer</label><div class=\"sk-toggleable__content\"><pre>CountVectorizer()</pre></div></div></div><div class=\"sk-item\"><div class=\"sk-estimator sk-toggleable\"><input class=\"sk-toggleable__control sk-hidden--visually\" id=\"sk-estimator-id-3\" type=\"checkbox\" ><label for=\"sk-estimator-id-3\" class=\"sk-toggleable__label sk-toggleable__label-arrow\">LogisticRegression</label><div class=\"sk-toggleable__content\"><pre>LogisticRegression()</pre></div></div></div></div></div></div></div>"
      ],
      "text/plain": [
       "Pipeline(steps=[('cv', CountVectorizer()), ('lr', LogisticRegression())])"
      ]
     },
     "execution_count": 151,
     "metadata": {},
     "output_type": "execute_result"
    }
   ],
   "source": [
    "from sklearn.linear_model import LogisticRegression\n",
    "from sklearn.feature_extraction.text import CountVectorizer\n",
    "from sklearn.model_selection import train_test_split\n",
    "from sklearn.metrics import accuracy_score\n",
    "\n",
    "#Attribute and Label\n",
    "Xfeatures = df['Clean_Text']\n",
    "ylabels = df['Emotion']\n",
    "\n",
    "from sklearn.pipeline import Pipeline\n",
    "\n",
    "pipe_lr = Pipeline(steps=[('cv',CountVectorizer()),('lr',LogisticRegression())])\n",
    "\n",
    "#Model fitting\n",
    "pipe_lr.fit(Xfeatures,ylabels)"
   ]
  },
  {
   "cell_type": "code",
   "execution_count": 152,
   "id": "37570ca5",
   "metadata": {},
   "outputs": [
    {
     "data": {
      "text/plain": [
       "0.8776442860427685"
      ]
     },
     "execution_count": 152,
     "metadata": {},
     "output_type": "execute_result"
    }
   ],
   "source": [
    "pipe_lr.score(Xfeatures,ylabels)"
   ]
  },
  {
   "cell_type": "code",
   "execution_count": 173,
   "id": "87c7c0a7",
   "metadata": {},
   "outputs": [
    {
     "name": "stdout",
     "output_type": "stream",
     "text": [
      "['sadness']\n"
     ]
    }
   ],
   "source": [
    "sample2 = \"My dog died today. My health is not good\"\n",
    "emotion = pipe_lr.predict([sample2])\n",
    "print(emotion)"
   ]
  },
  {
   "cell_type": "code",
   "execution_count": 38,
   "id": "14ec227b",
   "metadata": {},
   "outputs": [
    {
     "name": "stdout",
     "output_type": "stream",
     "text": [
      "/Users/varundesai/Desktop/MusicGenration\n"
     ]
    }
   ],
   "source": [
    "import os\n",
    "working_directory = os.getcwd()\n",
    "print(working_directory)"
   ]
  },
  {
   "cell_type": "code",
   "execution_count": 39,
   "id": "582fe9c1",
   "metadata": {},
   "outputs": [],
   "source": [
    "#Loading the list of chopin's midi files as stream \n",
    "filepath = working_directory + \"/sadsongs/\"\n",
    "#Getting midi files\n",
    "all_midis= []\n",
    "for i in os.listdir(filepath):\n",
    "    if i.endswith(\".mid\"):\n",
    "        tr = filepath+i\n",
    "        midi = converter.parse(tr)\n",
    "        all_midis.append(midi)"
   ]
  },
  {
   "cell_type": "code",
   "execution_count": 40,
   "id": "9346fc94",
   "metadata": {},
   "outputs": [
    {
     "name": "stdout",
     "output_type": "stream",
     "text": [
      "Total notes in all the Chopin midis in the dataset: 48602\n"
     ]
    }
   ],
   "source": [
    "#Helping function        \n",
    "def extract_notes(file):\n",
    "    notes = []\n",
    "    pick = None\n",
    "    for j in file:\n",
    "        songs = instrument.partitionByInstrument(j)\n",
    "        for part in songs.parts:\n",
    "            pick = part.recurse()\n",
    "            for element in pick:\n",
    "                if isinstance(element, note.Note):\n",
    "                    notes.append(str(element.pitch))\n",
    "                elif isinstance(element, chord.Chord):\n",
    "                    notes.append(\".\".join(str(n) for n in element.normalOrder))\n",
    "\n",
    "    return notes\n",
    "#Getting the list of notes as Corpus\n",
    "Corpus= extract_notes(all_midis)\n",
    "print(\"Total notes in all the Chopin midis in the dataset:\", len(Corpus))"
   ]
  },
  {
   "cell_type": "code",
   "execution_count": 41,
   "id": "73b38707",
   "metadata": {},
   "outputs": [
    {
     "name": "stdout",
     "output_type": "stream",
     "text": [
      "First fifty values in the Corpus: ['5.9', 'F3', 'A6', '0', 'A3', '5.9', 'C4', '9.10', '4.5.9', 'A6', 'E3', '0', 'G3', '5.9', 'C4', '7.10', '2.5.9', 'D3', 'A6', '0', 'A3', 'D4', '5.9', '10', 'A3', '5.9', 'F4', 'A6', 'A3', '0', '5.9', '9.2', '9.0', '10.2.5', 'B-2', 'B-6', 'F3', '2', '5.10', 'D4', '0', 'F3', 'A2', 'B-6', '9.10.2.5', 'F3', '2', '5.10', 'D4', '0.5']\n"
     ]
    }
   ],
   "source": [
    "print(\"First fifty values in the Corpus:\", Corpus[:50])"
   ]
  },
  {
   "cell_type": "code",
   "execution_count": 42,
   "id": "4f4d16a8",
   "metadata": {},
   "outputs": [
    {
     "name": "stdout",
     "output_type": "stream",
     "text": [
      "<music21.stream.Stream 0x298d2ca90>\n"
     ]
    }
   ],
   "source": [
    "def chords_n_notes(Snippet):\n",
    "    Melody = []\n",
    "    offset = 0 #Incremental\n",
    "    for i in Snippet:\n",
    "        #If it is chord\n",
    "        if (\".\" in i or i.isdigit()):\n",
    "            chord_notes = i.split(\".\") #Seperating the notes in chord\n",
    "            notes = [] \n",
    "            for j in chord_notes:\n",
    "                inst_note=int(j)\n",
    "                note_snip = note.Note(inst_note)            \n",
    "                notes.append(note_snip)\n",
    "                chord_snip = chord.Chord(notes)\n",
    "                chord_snip.offset = offset\n",
    "                Melody.append(chord_snip)\n",
    "        # pattern is a note\n",
    "        else: \n",
    "            note_snip = note.Note(i)\n",
    "            note_snip.offset = offset\n",
    "            Melody.append(note_snip)\n",
    "        # increase offset each iteration so that notes do not stack\n",
    "        offset += 1\n",
    "    Melody_midi = stream.Stream(Melody)   \n",
    "    return Melody_midi\n",
    "\n",
    "Melody_Snippet = chords_n_notes(Corpus[:100])\n",
    "print(Melody_Snippet)"
   ]
  },
  {
   "cell_type": "code",
   "execution_count": 43,
   "id": "04f979a2",
   "metadata": {},
   "outputs": [
    {
     "name": "stdout",
     "output_type": "stream",
     "text": [
      "Total unique notes in the Corpus: 528\n"
     ]
    }
   ],
   "source": [
    "#Creating a count dictionary\n",
    "count_num = Counter(Corpus)\n",
    "print(\"Total unique notes in the Corpus:\", len(count_num))"
   ]
  },
  {
   "cell_type": "code",
   "execution_count": 44,
   "id": "643461d9",
   "metadata": {},
   "outputs": [
    {
     "name": "stdout",
     "output_type": "stream",
     "text": [
      "Average recurrenc for a note in Corpus: 92.04924242424242\n",
      "Most frequent note in Corpus appeared: 1460 times\n",
      "Least frequent note in Corpus appeared: 1 time\n"
     ]
    }
   ],
   "source": [
    "#Exploring the notes dictionary\n",
    "Notes = list(count_num.keys())\n",
    "Recurrence = list(count_num.values())\n",
    "#Average recurrenc for a note in Corpus\n",
    "def Average(lst):\n",
    "    return sum(lst) / len(lst)\n",
    "print(\"Average recurrenc for a note in Corpus:\", Average(Recurrence))\n",
    "print(\"Most frequent note in Corpus appeared:\", max(Recurrence), \"times\")\n",
    "print(\"Least frequent note in Corpus appeared:\", min(Recurrence), \"time\")"
   ]
  },
  {
   "cell_type": "code",
   "execution_count": 45,
   "id": "f4d15fb9",
   "metadata": {},
   "outputs": [
    {
     "data": {
      "image/png": "[encoded data removed]",
      "text/plain": [
       "<Figure size 1800x300 with 1 Axes>"
      ]
     },
     "metadata": {
      "image/png": {
       "height": 315,
       "width": 1470
      }
     },
     "output_type": "display_data"
    }
   ],
   "source": [
    "# Plotting the distribution of Notes\n",
    "plt.figure(figsize=(18,3),facecolor=\"#97BACB\")\n",
    "bins = np.arange(0,(max(Recurrence)), 50) \n",
    "plt.hist(Recurrence, bins=bins, color=\"#97BACB\")\n",
    "plt.axvline(x=100,color=\"#DBACC1\")\n",
    "plt.title(\"Frequency Distribution Of Notes In The Corpus\")\n",
    "plt.xlabel(\"Frequency Of Chords in Corpus\")\n",
    "plt.ylabel(\"Number Of Chords\")\n",
    "plt.show()"
   ]
  },
  {
   "cell_type": "code",
   "execution_count": 48,
   "id": "5d1f547e",
   "metadata": {},
   "outputs": [
    {
     "name": "stdout",
     "output_type": "stream",
     "text": [
      "Total number of notes that occur less than 100 times: 322\n"
     ]
    }
   ],
   "source": [
    "#Getting a list of rare chords\n",
    "rare_note = []\n",
    "for index, (key, value) in enumerate(count_num.items()):\n",
    "    if value < 20:\n",
    "        m =  key\n",
    "        rare_note.append(m)\n",
    "        \n",
    "print(\"Total number of notes that occur less than 100 times:\", len(rare_note))"
   ]
  },
  {
   "cell_type": "code",
   "execution_count": 49,
   "id": "c8364887",
   "metadata": {},
   "outputs": [
    {
     "name": "stdout",
     "output_type": "stream",
     "text": [
      "Length of Corpus after elemination the rare notes: 47524\n"
     ]
    }
   ],
   "source": [
    "#Eleminating the rare notes\n",
    "for element in Corpus:\n",
    "    if element in rare_note:\n",
    "        Corpus.remove(element)\n",
    "\n",
    "print(\"Length of Corpus after elemination the rare notes:\", len(Corpus))"
   ]
  },
  {
   "cell_type": "code",
   "execution_count": 50,
   "id": "66fea003",
   "metadata": {},
   "outputs": [
    {
     "name": "stdout",
     "output_type": "stream",
     "text": [
      "Total number of characters: 47524\n",
      "Number of unique characters: 337\n"
     ]
    }
   ],
   "source": [
    "# Storing all the unique characters present in my corpus to bult a mapping dic. \n",
    "symb = sorted(list(set(Corpus)))\n",
    "\n",
    "L_corpus = len(Corpus) #length of corpus\n",
    "L_symb = len(symb) #length of total unique characters\n",
    "\n",
    "#Building dictionary to access the vocabulary from indices and vice versa\n",
    "mapping = dict((c, i) for i, c in enumerate(symb))\n",
    "reverse_mapping = dict((i, c) for i, c in enumerate(symb))\n",
    "\n",
    "print(\"Total number of characters:\", L_corpus)\n",
    "print(\"Number of unique characters:\", L_symb)"
   ]
  },
  {
   "cell_type": "code",
   "execution_count": 51,
   "id": "f6f25c69",
   "metadata": {},
   "outputs": [
    {
     "name": "stdout",
     "output_type": "stream",
     "text": [
      "Total number of sequences in the Corpus: 47484\n"
     ]
    }
   ],
   "source": [
    "#Splitting the Corpus in equal length of strings and output target\n",
    "length = 40\n",
    "features = []\n",
    "targets = []\n",
    "for i in range(0, L_corpus - length, 1):\n",
    "    feature = Corpus[i:i + length]\n",
    "    target = Corpus[i + length]\n",
    "    features.append([mapping[j] for j in feature])\n",
    "    targets.append(mapping[target])\n",
    "    \n",
    "    \n",
    "L_datapoints = len(targets)\n",
    "print(\"Total number of sequences in the Corpus:\", L_datapoints)"
   ]
  },
  {
   "cell_type": "code",
   "execution_count": 52,
   "id": "832fe8d2",
   "metadata": {},
   "outputs": [],
   "source": [
    "# reshape X and normalize\n",
    "X = (np.reshape(features, (L_datapoints, length, 1)))/ float(L_symb)\n",
    "# one hot encode the output variable\n",
    "y = tensorflow.keras.utils.to_categorical(targets) "
   ]
  },
  {
   "cell_type": "code",
   "execution_count": 53,
   "id": "98ca181e",
   "metadata": {},
   "outputs": [],
   "source": [
    "#Taking out a subset of data to be used as seed\n",
    "X_train, X_seed, y_train, y_seed = train_test_split(X, y, test_size=0.2, random_state=42)"
   ]
  },
  {
   "cell_type": "code",
   "execution_count": null,
   "id": "63c9b79e",
   "metadata": {},
   "outputs": [],
   "source": []
  },
  {
   "cell_type": "code",
   "execution_count": 64,
   "id": "fafb29fd",
   "metadata": {},
   "outputs": [],
   "source": [
    "#Initialising the Model\n",
    "model = Sequential()\n",
    "#Adding layers\n",
    "model.add(LSTM(512, input_shape=(X.shape[1], X.shape[2]), return_sequences=True))\n",
    "model.add(Dropout(0.1))\n",
    "model.add(LSTM(256))\n",
    "model.add(Dense(256))\n",
    "model.add(Dropout(0.3))\n",
    "model.add(Dense(y.shape[1], activation='softmax'))\n",
    "# Compiling the model for training\n",
    "opt = tensorflow.keras.optimizers.legacy.Adamax(learning_rate=0.01)\n",
    "model.compile(loss='categorical_crossentropy', optimizer=opt)"
   ]
  },
  {
   "cell_type": "code",
   "execution_count": 65,
   "id": "7d54394f",
   "metadata": {},
   "outputs": [
    {
     "name": "stdout",
     "output_type": "stream",
     "text": [
      "Model: \"sequential_5\"\n",
      "_________________________________________________________________\n",
      " Layer (type)                Output Shape              Param #   \n",
      "=================================================================\n",
      " lstm_13 (LSTM)              (None, 40, 512)           1052672   \n",
      "                                                                 \n",
      " dropout_13 (Dropout)        (None, 40, 512)           0         \n",
      "                                                                 \n",
      " lstm_14 (LSTM)              (None, 256)               787456    \n",
      "                                                                 \n",
      " dense_10 (Dense)            (None, 256)               65792     \n",
      "                                                                 \n",
      " dropout_14 (Dropout)        (None, 256)               0         \n",
      "                                                                 \n",
      " dense_11 (Dense)            (None, 337)               86609     \n",
      "                                                                 \n",
      "=================================================================\n",
      "Total params: 1992529 (7.60 MB)\n",
      "Trainable params: 1992529 (7.60 MB)\n",
      "Non-trainable params: 0 (0.00 Byte)\n",
      "_________________________________________________________________\n"
     ]
    }
   ],
   "source": [
    "#Model's Summary               \n",
    "model.summary()"
   ]
  },
  {
   "cell_type": "code",
   "execution_count": 66,
   "id": "c5231935",
   "metadata": {},
   "outputs": [
    {
     "name": "stdout",
     "output_type": "stream",
     "text": [
      "Epoch 1/200\n",
      "149/149 [==============================] - 66s 438ms/step - loss: 4.8833\n",
      "Epoch 2/200\n",
      "149/149 [==============================] - 66s 444ms/step - loss: 4.7311\n",
      "Epoch 3/200\n",
      "149/149 [==============================] - 70s 468ms/step - loss: 4.7142\n",
      "Epoch 4/200\n",
      "149/149 [==============================] - 76s 509ms/step - loss: 4.7092\n",
      "Epoch 5/200\n",
      "149/149 [==============================] - 89s 596ms/step - loss: 4.7019\n",
      "Epoch 6/200\n",
      "149/149 [==============================] - 88s 591ms/step - loss: 4.6954\n",
      "Epoch 7/200\n",
      "149/149 [==============================] - 87s 585ms/step - loss: 4.6911\n",
      "Epoch 8/200\n",
      "149/149 [==============================] - 87s 584ms/step - loss: 4.6886\n",
      "Epoch 9/200\n",
      "149/149 [==============================] - 94s 630ms/step - loss: 4.6834\n",
      "Epoch 10/200\n",
      "149/149 [==============================] - 98s 660ms/step - loss: 4.6838\n",
      "Epoch 11/200\n",
      "149/149 [==============================] - 103s 693ms/step - loss: 4.6807\n",
      "Epoch 12/200\n",
      "149/149 [==============================] - 107s 719ms/step - loss: 4.6755\n",
      "Epoch 13/200\n",
      "149/149 [==============================] - 90s 603ms/step - loss: 4.6797\n",
      "Epoch 14/200\n",
      "149/149 [==============================] - 84s 562ms/step - loss: 4.6724\n",
      "Epoch 15/200\n",
      "149/149 [==============================] - 85s 568ms/step - loss: 4.6638\n",
      "Epoch 16/200\n",
      "149/149 [==============================] - 86s 576ms/step - loss: 4.7387\n",
      "Epoch 17/200\n",
      "149/149 [==============================] - 84s 564ms/step - loss: 4.7605\n",
      "Epoch 18/200\n",
      "149/149 [==============================] - 83s 557ms/step - loss: 4.6982\n",
      "Epoch 19/200\n",
      "149/149 [==============================] - 83s 556ms/step - loss: 4.7015\n",
      "Epoch 20/200\n",
      "149/149 [==============================] - 83s 557ms/step - loss: 4.6829\n",
      "Epoch 21/200\n",
      "149/149 [==============================] - 84s 562ms/step - loss: 4.6813\n",
      "Epoch 22/200\n",
      "149/149 [==============================] - 85s 570ms/step - loss: 4.6662\n",
      "Epoch 23/200\n",
      "149/149 [==============================] - 85s 568ms/step - loss: 4.6101\n",
      "Epoch 24/200\n",
      "149/149 [==============================] - 84s 565ms/step - loss: 4.5413\n",
      "Epoch 25/200\n",
      "149/149 [==============================] - 84s 565ms/step - loss: 4.5152\n",
      "Epoch 26/200\n",
      "149/149 [==============================] - 86s 579ms/step - loss: 4.4789\n",
      "Epoch 27/200\n",
      "149/149 [==============================] - 87s 586ms/step - loss: 4.4440\n",
      "Epoch 28/200\n",
      "149/149 [==============================] - 86s 580ms/step - loss: 4.4039\n",
      "Epoch 29/200\n",
      "149/149 [==============================] - 90s 605ms/step - loss: 4.3331\n",
      "Epoch 30/200\n",
      "149/149 [==============================] - 91s 610ms/step - loss: 4.2761\n",
      "Epoch 31/200\n",
      "149/149 [==============================] - 88s 594ms/step - loss: 4.2196\n",
      "Epoch 32/200\n",
      "149/149 [==============================] - 89s 598ms/step - loss: 4.1441\n",
      "Epoch 33/200\n",
      "149/149 [==============================] - 92s 615ms/step - loss: 4.0658\n",
      "Epoch 34/200\n",
      "149/149 [==============================] - 91s 612ms/step - loss: 3.9508\n",
      "Epoch 35/200\n",
      "149/149 [==============================] - 91s 609ms/step - loss: 3.8207\n",
      "Epoch 36/200\n",
      "149/149 [==============================] - 87s 582ms/step - loss: 3.6968\n",
      "Epoch 37/200\n",
      "149/149 [==============================] - 86s 578ms/step - loss: 3.5632\n",
      "Epoch 38/200\n",
      "149/149 [==============================] - 85s 571ms/step - loss: 3.5011\n",
      "Epoch 39/200\n",
      "149/149 [==============================] - 84s 564ms/step - loss: 3.2989\n",
      "Epoch 40/200\n",
      "149/149 [==============================] - 85s 568ms/step - loss: 3.1437\n",
      "Epoch 41/200\n",
      "149/149 [==============================] - 84s 563ms/step - loss: 3.0187\n",
      "Epoch 42/200\n",
      "149/149 [==============================] - 82s 549ms/step - loss: 2.8806\n",
      "Epoch 43/200\n",
      "149/149 [==============================] - 85s 568ms/step - loss: 2.7575\n",
      "Epoch 44/200\n",
      "149/149 [==============================] - 84s 566ms/step - loss: 2.6560\n",
      "Epoch 45/200\n",
      "149/149 [==============================] - 83s 560ms/step - loss: 2.5517\n",
      "Epoch 46/200\n",
      "149/149 [==============================] - 82s 551ms/step - loss: 2.4540\n",
      "Epoch 47/200\n",
      "149/149 [==============================] - 83s 556ms/step - loss: 2.3674\n",
      "Epoch 48/200\n",
      "149/149 [==============================] - 84s 561ms/step - loss: 2.2739\n",
      "Epoch 49/200\n",
      "149/149 [==============================] - 85s 569ms/step - loss: 2.2102\n",
      "Epoch 50/200\n",
      "149/149 [==============================] - 86s 576ms/step - loss: 2.1028\n",
      "Epoch 51/200\n",
      "149/149 [==============================] - 84s 566ms/step - loss: 2.0314\n",
      "Epoch 52/200\n",
      "149/149 [==============================] - 84s 561ms/step - loss: 1.9588\n",
      "Epoch 53/200\n",
      "149/149 [==============================] - 86s 575ms/step - loss: 1.8928\n",
      "Epoch 54/200\n",
      "149/149 [==============================] - 85s 568ms/step - loss: 1.8299\n",
      "Epoch 55/200\n",
      "149/149 [==============================] - 84s 561ms/step - loss: 1.7816\n",
      "Epoch 56/200\n",
      "149/149 [==============================] - 85s 568ms/step - loss: 1.7156\n",
      "Epoch 57/200\n",
      "149/149 [==============================] - 81s 542ms/step - loss: 1.6542\n",
      "Epoch 58/200\n",
      "149/149 [==============================] - 81s 547ms/step - loss: 1.6138\n",
      "Epoch 59/200\n",
      "149/149 [==============================] - 81s 546ms/step - loss: 1.5762\n",
      "Epoch 60/200\n",
      "149/149 [==============================] - 82s 548ms/step - loss: 1.5180\n",
      "Epoch 61/200\n",
      "149/149 [==============================] - 81s 545ms/step - loss: 1.4806\n",
      "Epoch 62/200\n",
      "149/149 [==============================] - 82s 550ms/step - loss: 1.4552\n",
      "Epoch 63/200\n",
      "149/149 [==============================] - 82s 552ms/step - loss: 1.3999\n",
      "Epoch 64/200\n",
      "149/149 [==============================] - 83s 555ms/step - loss: 1.3653\n",
      "Epoch 65/200\n",
      "149/149 [==============================] - 83s 553ms/step - loss: 1.3292\n",
      "Epoch 66/200\n",
      "149/149 [==============================] - 83s 558ms/step - loss: 1.3025\n",
      "Epoch 67/200\n",
      "149/149 [==============================] - 81s 544ms/step - loss: 1.2636\n",
      "Epoch 68/200\n",
      "149/149 [==============================] - 81s 546ms/step - loss: 1.2348\n",
      "Epoch 69/200\n",
      "149/149 [==============================] - 82s 550ms/step - loss: 1.2094\n",
      "Epoch 70/200\n",
      "149/149 [==============================] - 83s 554ms/step - loss: 1.1612\n",
      "Epoch 71/200\n",
      "149/149 [==============================] - 84s 561ms/step - loss: 1.1472\n",
      "Epoch 72/200\n",
      "149/149 [==============================] - 82s 552ms/step - loss: 1.0927\n",
      "Epoch 73/200\n",
      "149/149 [==============================] - 84s 561ms/step - loss: 1.0891\n",
      "Epoch 74/200\n",
      "149/149 [==============================] - 84s 563ms/step - loss: 1.0756\n",
      "Epoch 75/200\n",
      "149/149 [==============================] - 84s 564ms/step - loss: 1.0497\n",
      "Epoch 76/200\n",
      "149/149 [==============================] - 84s 563ms/step - loss: 1.0106\n",
      "Epoch 77/200\n",
      "149/149 [==============================] - 83s 560ms/step - loss: 1.0007\n",
      "Epoch 78/200\n",
      "149/149 [==============================] - 85s 569ms/step - loss: 0.9855\n",
      "Epoch 79/200\n",
      "149/149 [==============================] - 86s 576ms/step - loss: 0.9729\n",
      "Epoch 80/200\n",
      "149/149 [==============================] - 86s 577ms/step - loss: 0.9671\n",
      "Epoch 81/200\n",
      "149/149 [==============================] - 86s 577ms/step - loss: 0.9071\n",
      "Epoch 82/200\n",
      "149/149 [==============================] - 86s 575ms/step - loss: 0.8884\n",
      "Epoch 83/200\n",
      "149/149 [==============================] - 85s 570ms/step - loss: 0.8880\n",
      "Epoch 84/200\n",
      "149/149 [==============================] - 84s 567ms/step - loss: 0.8814\n",
      "Epoch 85/200\n",
      "149/149 [==============================] - 85s 573ms/step - loss: 0.8443\n",
      "Epoch 86/200\n",
      "149/149 [==============================] - 85s 569ms/step - loss: 0.8292\n",
      "Epoch 87/200\n",
      "149/149 [==============================] - 84s 566ms/step - loss: 0.8056\n",
      "Epoch 88/200\n",
      "149/149 [==============================] - 85s 570ms/step - loss: 0.7937\n",
      "Epoch 89/200\n",
      "149/149 [==============================] - 86s 576ms/step - loss: 0.7960\n",
      "Epoch 90/200\n",
      "149/149 [==============================] - 86s 576ms/step - loss: 0.7726\n",
      "Epoch 91/200\n",
      "149/149 [==============================] - 86s 574ms/step - loss: 0.7639\n",
      "Epoch 92/200\n",
      "149/149 [==============================] - 85s 569ms/step - loss: 0.7599\n",
      "Epoch 93/200\n",
      "149/149 [==============================] - 87s 587ms/step - loss: 0.7247\n",
      "Epoch 94/200\n",
      "149/149 [==============================] - 87s 581ms/step - loss: 0.7449\n",
      "Epoch 95/200\n",
      "149/149 [==============================] - 86s 576ms/step - loss: 0.7040\n",
      "Epoch 96/200\n",
      "149/149 [==============================] - 87s 581ms/step - loss: 0.6909\n",
      "Epoch 97/200\n",
      "149/149 [==============================] - 85s 572ms/step - loss: 0.6956\n",
      "Epoch 98/200\n",
      "149/149 [==============================] - 86s 575ms/step - loss: 0.7180\n",
      "Epoch 99/200\n",
      "149/149 [==============================] - 87s 583ms/step - loss: 0.6692\n",
      "Epoch 100/200\n",
      "149/149 [==============================] - 87s 584ms/step - loss: 0.6351\n",
      "Epoch 101/200\n",
      "149/149 [==============================] - 86s 576ms/step - loss: 0.6337\n",
      "Epoch 102/200\n",
      "149/149 [==============================] - 86s 579ms/step - loss: 0.6475\n",
      "Epoch 103/200\n",
      "149/149 [==============================] - 85s 570ms/step - loss: 0.6148\n",
      "Epoch 104/200\n",
      "149/149 [==============================] - 85s 570ms/step - loss: 0.6389\n",
      "Epoch 105/200\n",
      "149/149 [==============================] - 85s 567ms/step - loss: 0.6083\n",
      "Epoch 106/200\n",
      "149/149 [==============================] - 83s 559ms/step - loss: 0.6092\n",
      "Epoch 107/200\n",
      "149/149 [==============================] - 84s 561ms/step - loss: 0.6010\n",
      "Epoch 108/200\n",
      "149/149 [==============================] - 83s 554ms/step - loss: 0.6043\n",
      "Epoch 109/200\n",
      "149/149 [==============================] - 81s 545ms/step - loss: 0.5703\n",
      "Epoch 110/200\n",
      "149/149 [==============================] - 81s 542ms/step - loss: 0.5742\n",
      "Epoch 111/200\n",
      "149/149 [==============================] - 85s 569ms/step - loss: 0.5631\n",
      "Epoch 112/200\n",
      "149/149 [==============================] - 83s 556ms/step - loss: 0.5707\n",
      "Epoch 113/200\n",
      "149/149 [==============================] - 78s 523ms/step - loss: 0.5519\n",
      "Epoch 114/200\n",
      "149/149 [==============================] - 87s 584ms/step - loss: 0.5352\n",
      "Epoch 115/200\n",
      "149/149 [==============================] - 82s 552ms/step - loss: 0.5420\n",
      "Epoch 116/200\n",
      "149/149 [==============================] - 81s 542ms/step - loss: 0.5337\n",
      "Epoch 117/200\n",
      "149/149 [==============================] - 82s 550ms/step - loss: 0.5204\n",
      "Epoch 118/200\n",
      "149/149 [==============================] - 84s 565ms/step - loss: 0.5046\n",
      "Epoch 119/200\n",
      "149/149 [==============================] - 134s 902ms/step - loss: 0.5438\n",
      "Epoch 120/200\n",
      "149/149 [==============================] - 154s 1s/step - loss: 0.4960\n",
      "Epoch 121/200\n",
      "149/149 [==============================] - 138s 929ms/step - loss: 0.4595\n",
      "Epoch 122/200\n",
      "149/149 [==============================] - 144s 966ms/step - loss: 0.4787\n",
      "Epoch 123/200\n",
      "149/149 [==============================] - 152s 1s/step - loss: 0.4985\n",
      "Epoch 124/200\n",
      "149/149 [==============================] - 149s 999ms/step - loss: 0.4589\n",
      "Epoch 125/200\n",
      "149/149 [==============================] - 149s 1s/step - loss: 0.4877\n",
      "Epoch 126/200\n",
      "149/149 [==============================] - 150s 1s/step - loss: 0.4738\n",
      "Epoch 127/200\n",
      "149/149 [==============================] - 144s 963ms/step - loss: 0.4646\n",
      "Epoch 128/200\n",
      "149/149 [==============================] - 147s 990ms/step - loss: 0.4824\n",
      "Epoch 129/200\n",
      "149/149 [==============================] - 146s 982ms/step - loss: 0.4464\n",
      "Epoch 130/200\n",
      "149/149 [==============================] - 132s 886ms/step - loss: 0.4526\n",
      "Epoch 131/200\n",
      "149/149 [==============================] - 87s 582ms/step - loss: 0.4442\n",
      "Epoch 132/200\n",
      "149/149 [==============================] - 85s 571ms/step - loss: 0.4517\n",
      "Epoch 133/200\n",
      "149/149 [==============================] - 95s 636ms/step - loss: 0.4334\n",
      "Epoch 134/200\n",
      "149/149 [==============================] - 93s 624ms/step - loss: 0.4162\n",
      "Epoch 135/200\n",
      "149/149 [==============================] - 87s 585ms/step - loss: 0.4192\n",
      "Epoch 136/200\n",
      "149/149 [==============================] - 88s 588ms/step - loss: 0.4276\n",
      "Epoch 137/200\n",
      "149/149 [==============================] - 89s 594ms/step - loss: 0.4201\n",
      "Epoch 138/200\n",
      "149/149 [==============================] - 90s 605ms/step - loss: 0.3978\n",
      "Epoch 139/200\n",
      "149/149 [==============================] - 90s 603ms/step - loss: 0.4128\n",
      "Epoch 140/200\n",
      "149/149 [==============================] - 90s 602ms/step - loss: 0.4058\n",
      "Epoch 141/200\n",
      "149/149 [==============================] - 89s 597ms/step - loss: 0.3940\n",
      "Epoch 142/200\n",
      "149/149 [==============================] - 89s 598ms/step - loss: 0.4042\n",
      "Epoch 143/200\n",
      "149/149 [==============================] - 90s 602ms/step - loss: 0.4122\n",
      "Epoch 144/200\n",
      "149/149 [==============================] - 89s 600ms/step - loss: 0.3997\n",
      "Epoch 145/200\n",
      "149/149 [==============================] - 87s 584ms/step - loss: 0.4138\n",
      "Epoch 146/200\n",
      "149/149 [==============================] - 89s 595ms/step - loss: 0.3762\n",
      "Epoch 147/200\n",
      "149/149 [==============================] - 107s 717ms/step - loss: 0.3820\n",
      "Epoch 148/200\n",
      "149/149 [==============================] - 106s 715ms/step - loss: 0.4084\n",
      "Epoch 149/200\n",
      "149/149 [==============================] - 106s 711ms/step - loss: 0.3740\n",
      "Epoch 150/200\n",
      "149/149 [==============================] - 107s 718ms/step - loss: 0.3753\n",
      "Epoch 151/200\n",
      "149/149 [==============================] - 105s 707ms/step - loss: 0.3691\n",
      "Epoch 152/200\n",
      "149/149 [==============================] - 106s 710ms/step - loss: 0.3703\n",
      "Epoch 153/200\n",
      "149/149 [==============================] - 106s 714ms/step - loss: 0.3573\n",
      "Epoch 154/200\n",
      "149/149 [==============================] - 107s 715ms/step - loss: 0.3680\n",
      "Epoch 155/200\n",
      "149/149 [==============================] - 269s 2s/step - loss: 0.3861\n",
      "Epoch 156/200\n",
      "149/149 [==============================] - 108s 722ms/step - loss: 0.3516\n",
      "Epoch 157/200\n",
      "149/149 [==============================] - 107s 715ms/step - loss: 0.3537\n",
      "Epoch 158/200\n",
      "149/149 [==============================] - 108s 723ms/step - loss: 0.3532\n",
      "Epoch 159/200\n",
      "149/149 [==============================] - 109s 733ms/step - loss: 0.3524\n",
      "Epoch 160/200\n",
      "149/149 [==============================] - 109s 730ms/step - loss: 0.3567\n",
      "Epoch 161/200\n",
      "149/149 [==============================] - 96s 644ms/step - loss: 0.3407\n",
      "Epoch 162/200\n",
      "149/149 [==============================] - 72s 485ms/step - loss: 0.3555\n",
      "Epoch 163/200\n",
      "149/149 [==============================] - 97s 652ms/step - loss: 0.3463\n",
      "Epoch 164/200\n",
      "149/149 [==============================] - 92s 618ms/step - loss: 0.3490\n",
      "Epoch 165/200\n",
      "149/149 [==============================] - 90s 602ms/step - loss: 0.3177\n",
      "Epoch 166/200\n",
      "149/149 [==============================] - 91s 609ms/step - loss: 0.3388\n",
      "Epoch 167/200\n",
      "149/149 [==============================] - 90s 601ms/step - loss: 0.3299\n",
      "Epoch 168/200\n",
      "149/149 [==============================] - 93s 623ms/step - loss: 0.3064\n",
      "Epoch 169/200\n",
      "149/149 [==============================] - 97s 648ms/step - loss: 0.3204\n",
      "Epoch 170/200\n",
      "149/149 [==============================] - 93s 624ms/step - loss: 0.3223\n",
      "Epoch 171/200\n",
      "149/149 [==============================] - 92s 619ms/step - loss: 0.3323\n",
      "Epoch 172/200\n",
      "149/149 [==============================] - 91s 610ms/step - loss: 0.3075\n",
      "Epoch 173/200\n",
      "149/149 [==============================] - 93s 624ms/step - loss: 0.3175\n",
      "Epoch 174/200\n",
      "149/149 [==============================] - 95s 635ms/step - loss: 0.3214\n",
      "Epoch 175/200\n",
      "149/149 [==============================] - 93s 627ms/step - loss: 0.3125\n",
      "Epoch 176/200\n",
      "149/149 [==============================] - 94s 631ms/step - loss: 0.3196\n",
      "Epoch 177/200\n",
      "149/149 [==============================] - 94s 628ms/step - loss: 0.3211\n",
      "Epoch 178/200\n",
      "149/149 [==============================] - 93s 622ms/step - loss: 0.3040\n",
      "Epoch 179/200\n",
      "149/149 [==============================] - 93s 625ms/step - loss: 0.2883\n",
      "Epoch 180/200\n",
      "149/149 [==============================] - 98s 657ms/step - loss: 0.3141\n",
      "Epoch 181/200\n",
      "149/149 [==============================] - 93s 625ms/step - loss: 0.3039\n",
      "Epoch 182/200\n",
      "149/149 [==============================] - 92s 618ms/step - loss: 0.2983\n",
      "Epoch 183/200\n",
      "149/149 [==============================] - 94s 630ms/step - loss: 0.2936\n",
      "Epoch 184/200\n",
      "149/149 [==============================] - 94s 634ms/step - loss: 0.2916\n",
      "Epoch 185/200\n",
      "149/149 [==============================] - 94s 630ms/step - loss: 0.3043\n",
      "Epoch 186/200\n",
      "149/149 [==============================] - 93s 627ms/step - loss: 0.2822\n",
      "Epoch 187/200\n",
      "149/149 [==============================] - 92s 619ms/step - loss: 0.2806\n",
      "Epoch 188/200\n",
      "149/149 [==============================] - 96s 645ms/step - loss: 0.2889\n",
      "Epoch 189/200\n",
      "149/149 [==============================] - 97s 651ms/step - loss: 0.2839\n",
      "Epoch 190/200\n",
      "149/149 [==============================] - 94s 631ms/step - loss: 0.2704\n",
      "Epoch 191/200\n",
      "149/149 [==============================] - 93s 626ms/step - loss: 0.2715\n",
      "Epoch 192/200\n",
      "149/149 [==============================] - 94s 633ms/step - loss: 0.2752\n",
      "Epoch 193/200\n",
      "149/149 [==============================] - 95s 638ms/step - loss: 0.2811\n",
      "Epoch 194/200\n",
      "149/149 [==============================] - 94s 629ms/step - loss: 0.2737\n",
      "Epoch 195/200\n",
      "149/149 [==============================] - 94s 629ms/step - loss: 0.2492\n",
      "Epoch 196/200\n",
      "149/149 [==============================] - 92s 618ms/step - loss: 0.2625\n",
      "Epoch 197/200\n",
      "149/149 [==============================] - 91s 611ms/step - loss: 0.2593\n",
      "Epoch 198/200\n",
      "149/149 [==============================] - 94s 628ms/step - loss: 0.2744\n",
      "Epoch 199/200\n",
      "149/149 [==============================] - 95s 640ms/step - loss: 0.2697\n",
      "Epoch 200/200\n",
      "149/149 [==============================] - 96s 643ms/step - loss: 0.2541\n"
     ]
    }
   ],
   "source": [
    "#Training the Model\n",
    "history = model.fit(X_train, y_train, batch_size=256, epochs=200)"
   ]
  },
  {
   "cell_type": "code",
   "execution_count": 67,
   "id": "38551d8d",
   "metadata": {},
   "outputs": [
    {
     "data": {
      "text/plain": [
       "[Text(0.5, 0, 'Epochs')]"
      ]
     },
     "execution_count": 67,
     "metadata": {},
     "output_type": "execute_result"
    },
    {
     "data": {
      "image/png": "[encoded data removed]",
      "text/plain": [
       "<Figure size 1500x400 with 1 Axes>"
      ]
     },
     "metadata": {
      "image/png": {
       "height": 411,
       "width": 1220
      }
     },
     "output_type": "display_data"
    }
   ],
   "source": [
    "#Plotting the learnings \n",
    "history_df = pd.DataFrame(history.history)\n",
    "fig = plt.figure(figsize=(15,4), facecolor=\"#97BACB\")\n",
    "fig.suptitle(\"Learning Plot of Model for Loss\")\n",
    "pl=sns.lineplot(data=history_df[\"loss\"],color=\"#444160\")\n",
    "pl.set(ylabel =\"Training Loss\")\n",
    "pl.set(xlabel =\"Epochs\")"
   ]
  },
  {
   "cell_type": "code",
   "execution_count": null,
   "id": "f05415b1",
   "metadata": {},
   "outputs": [],
   "source": []
  },
  {
   "cell_type": "code",
   "execution_count": null,
   "id": "81542f7e",
   "metadata": {},
   "outputs": [],
   "source": []
  },
  {
   "cell_type": "code",
   "execution_count": null,
   "id": "1c3b5749",
   "metadata": {},
   "outputs": [],
   "source": []
  },
  {
   "cell_type": "code",
   "execution_count": null,
   "id": "7828b75b",
   "metadata": {},
   "outputs": [],
   "source": []
  },
  {
   "cell_type": "code",
   "execution_count": null,
   "id": "444380b6",
   "metadata": {
    "scrolled": true
   },
   "outputs": [],
   "source": []
  },
  {
   "cell_type": "code",
   "execution_count": 132,
   "id": "4d2e312b",
   "metadata": {},
   "outputs": [
    {
     "name": "stdout",
     "output_type": "stream",
     "text": [
      "Collecting midi2audio\n",
      "  Downloading midi2audio-0.1.1-py2.py3-none-any.whl (8.7 kB)\n",
      "Installing collected packages: midi2audio\n",
      "Successfully installed midi2audio-0.1.1\n"
     ]
    }
   ],
   "source": [
    "!pip install midi2audio"
   ]
  },
  {
   "cell_type": "code",
   "execution_count": 134,
   "id": "3730be8e",
   "metadata": {},
   "outputs": [
    {
     "name": "stdout",
     "output_type": "stream",
     "text": [
      "Collecting pydub\n",
      "  Downloading pydub-0.25.1-py2.py3-none-any.whl (32 kB)\n",
      "Installing collected packages: pydub\n",
      "Successfully installed pydub-0.25.1\n"
     ]
    }
   ],
   "source": [
    "!pip install pydub"
   ]
  },
  {
   "cell_type": "code",
   "execution_count": null,
   "id": "30e1e787",
   "metadata": {},
   "outputs": [],
   "source": []
  },
  {
   "cell_type": "code",
   "execution_count": 178,
   "id": "486af637",
   "metadata": {},
   "outputs": [
    {
     "name": "stdout",
     "output_type": "stream",
     "text": [
      "<music21.stream.Stream 0x1563fcc40>\n"
     ]
    }
   ],
   "source": [
    "if(emotion=='sadness'):\n",
    "    #Harp instrument\n",
    "    def Melody_Generator(Note_Count):\n",
    "        # Set the desired MIDI program number for the flute (see https://en.wikipedia.org/wiki/General_MIDI#Program_change_events)\n",
    "        harp_program_number = 46\n",
    "\n",
    "        # Create a new instrument object for the flute\n",
    "        harp_instrument = instrument.Harp()\n",
    "\n",
    "        seed = X_seed[np.random.randint(0,len(X_seed)-1)]\n",
    "        Music = \"\"\n",
    "        Notes_Generated=[]\n",
    "        for i in range(Note_Count):\n",
    "            seed = seed.reshape(1,length,1)\n",
    "            prediction = model.predict(seed, verbose=0)[0]\n",
    "            prediction = np.log(prediction) / 2.0 #diversity\n",
    "            exp_preds = np.exp(prediction)\n",
    "            prediction = exp_preds / np.sum(exp_preds)\n",
    "            index = np.argmax(prediction)\n",
    "            index_N = index/ float(L_symb)   \n",
    "            Notes_Generated.append(index)\n",
    "            Music = [reverse_mapping[char] for char in Notes_Generated]\n",
    "            seed = np.insert(seed[0],len(seed[0]),index_N)\n",
    "            seed = seed[1:]\n",
    "        #Now, we have music in form or a list of chords and notes and we want to be a midi file.\n",
    "        Melody = chords_n_notes(Music)\n",
    "\n",
    "        # Add the flute instrument to the MIDI stream\n",
    "        Melody.insert(0, harp_instrument)\n",
    "\n",
    "        # Set the MIDI program number for the flute\n",
    "        for note in Melody.flat.notes:\n",
    "            note.midiProgram = harp_program_number\n",
    "\n",
    "        Melody_midi = stream.Stream(Melody)\n",
    "\n",
    "        # Save the melody as a MIDI file\n",
    "        filename = 'generated_music_harp.mid'\n",
    "        path = os.path.join(os.getcwd(), filename)\n",
    "        Melody_midi.write('midi', fp=path)\n",
    "\n",
    "        return Music, Melody_midi\n",
    "\n",
    "\n",
    "    # Generate the music and save it as a MIDI file\n",
    "    Music_notes, Melody = Melody_Generator(200)\n",
    "    print(Melody)\n",
    "else:\n",
    "    #Piano Instrument\n",
    "    def Malody_Generator(Note_Count):\n",
    "        seed = X_seed[np.random.randint(0,len(X_seed)-1)]\n",
    "        Music = \"\"\n",
    "        Notes_Generated=[]\n",
    "        for i in range(Note_Count):\n",
    "            seed = seed.reshape(1,length,1)\n",
    "            prediction = model.predict(seed, verbose=0)[0]\n",
    "            prediction = np.log(prediction) / 3.0 #diversity\n",
    "            exp_preds = np.exp(prediction)\n",
    "            prediction = exp_preds / np.sum(exp_preds)\n",
    "            index = np.argmax(prediction)\n",
    "            index_N = index/ float(L_symb)   \n",
    "            Notes_Generated.append(index)\n",
    "            Music = [reverse_mapping[char] for char in Notes_Generated]\n",
    "            seed = np.insert(seed[0],len(seed[0]),index_N)\n",
    "            seed = seed[1:]\n",
    "        #Now, we have music in form or a list of chords and notes and we want to be a midi file.\n",
    "        Melody = chords_n_notes(Music)\n",
    "        Melody_midi = stream.Stream(Melody)\n",
    "\n",
    "        # Save the melody as a MIDI file\n",
    "        filename = 'generated_music_piano.mid'\n",
    "        path = os.path.join(os.getcwd(), filename)\n",
    "        Melody_midi.write('midi', fp=path)\n",
    "\n",
    "        return Music, Melody_midi\n",
    "\n",
    "\n",
    "    # Generate the music and save it as a MIDI file\n",
    "    Music_notes, Melody = Malody_Generator(100)\n",
    "    print(Melody)"
   ]
  },
  {
   "cell_type": "code",
   "execution_count": null,
   "id": "722a0fca",
   "metadata": {},
   "outputs": [],
   "source": []
  }
 ],
 "metadata": {
  "kernelspec": {
   "display_name": "Python 3 (ipykernel)",
   "language": "python",
   "name": "python3"
  },
  "language_info": {
   "codemirror_mode": {
    "name": "ipython",
    "version": 3
   },
   "file_extension": ".py",
   "mimetype": "text/x-python",
   "name": "python",
   "nbconvert_exporter": "python",
   "pygments_lexer": "ipython3",
   "version": "3.10.9"
  }
 },
 "nbformat": 4,
 "nbformat_minor": 5
}
